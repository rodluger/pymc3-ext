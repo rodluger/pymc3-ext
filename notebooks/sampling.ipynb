{
 "cells": [
  {
   "cell_type": "code",
   "execution_count": 1,
   "id": "579ed6cc",
   "metadata": {
    "execution": {
     "iopub.execute_input": "2021-06-21T17:54:14.602923Z",
     "iopub.status.busy": "2021-06-21T17:54:14.602312Z",
     "iopub.status.idle": "2021-06-21T17:54:15.276495Z",
     "shell.execute_reply": "2021-06-21T17:54:15.275513Z"
    }
   },
   "outputs": [],
   "source": [
    "%matplotlib inline"
   ]
  },
  {
   "cell_type": "code",
   "execution_count": 2,
   "id": "b37698fd",
   "metadata": {
    "execution": {
     "iopub.execute_input": "2021-06-21T17:54:15.287054Z",
     "iopub.status.busy": "2021-06-21T17:54:15.280692Z",
     "iopub.status.idle": "2021-06-21T17:54:15.293852Z",
     "shell.execute_reply": "2021-06-21T17:54:15.293242Z"
    }
   },
   "outputs": [],
   "source": [
    "%run notebook_setup"
   ]
  },
  {
   "cell_type": "markdown",
   "id": "d76cd627",
   "metadata": {},
   "source": [
    "# Sampling\n",
    "\n",
    "`pymc3-ext` comes with some functions to make sampling more flexible in some cases and improve the default parameter choices for the types of problems encountered in astrophysics.\n",
    "These features are accessed through the `pymc3_ext.sample` function that behaves mostly like the `pymc3.sample` function with a couple of different arguments.\n",
    "The two main differences for all users is that the `pymc3_ext.sample` function defaults to a target acceptance fraction of `0.9` (which will be better for many models in astrophysics) and to adapting a full dense mass matrix (instead of diagonal).\n",
    "Therefore, if there are covariances between parameters, this method will generally perform better than the PyMC3 defaults.\n",
    "\n",
    "## Correlated parameters\n",
    "\n",
    "A thorough discussion of this [can be found elsewhere online](https://dfm.io/posts/pymc3-mass-matrix/), but here is a simple demo where we sample a covariant Gaussian using `pymc3_ext.sample`.\n",
    "\n",
    "First, we generate a random positive definite covariance matrix for the Gaussian:"
   ]
  },
  {
   "cell_type": "code",
   "execution_count": 3,
   "id": "78e20da1",
   "metadata": {
    "execution": {
     "iopub.execute_input": "2021-06-21T17:54:15.332948Z",
     "iopub.status.busy": "2021-06-21T17:54:15.331949Z",
     "iopub.status.idle": "2021-06-21T17:54:15.333988Z",
     "shell.execute_reply": "2021-06-21T17:54:15.334740Z"
    }
   },
   "outputs": [],
   "source": [
    "import numpy as np\n",
    "\n",
    "ndim = 5\n",
    "np.random.seed(42)\n",
    "L = np.random.randn(ndim, ndim)\n",
    "L[np.diag_indices_from(L)] = 0.1 * np.exp(L[np.diag_indices_from(L)])\n",
    "L[np.triu_indices_from(L, 1)] = 0.0\n",
    "cov = np.dot(L, L.T)"
   ]
  },
  {
   "cell_type": "markdown",
   "id": "6a3c128b",
   "metadata": {},
   "source": [
    "And then we can set up this model using PyMC3:"
   ]
  },
  {
   "cell_type": "code",
   "execution_count": 4,
   "id": "aac20bc8",
   "metadata": {
    "execution": {
     "iopub.execute_input": "2021-06-21T17:54:15.348188Z",
     "iopub.status.busy": "2021-06-21T17:54:15.347639Z",
     "iopub.status.idle": "2021-06-21T17:54:18.350167Z",
     "shell.execute_reply": "2021-06-21T17:54:18.349586Z"
    }
   },
   "outputs": [],
   "source": [
    "import pymc3 as pm\n",
    "\n",
    "with pm.Model() as model:\n",
    "    pm.MvNormal(\"x\", mu=np.zeros(ndim), chol=L, shape=ndim)"
   ]
  },
  {
   "cell_type": "markdown",
   "id": "2e4d1d4e",
   "metadata": {},
   "source": [
    "If we sample this using PyMC3 default sampling method, things don't go so well (we're only doing a small number of steps because we don't want it to take forever, but things don't get better if you run for longer!):"
   ]
  },
  {
   "cell_type": "code",
   "execution_count": 5,
   "id": "5337a9ac",
   "metadata": {
    "execution": {
     "iopub.execute_input": "2021-06-21T17:54:18.356037Z",
     "iopub.status.busy": "2021-06-21T17:54:18.354975Z",
     "iopub.status.idle": "2021-06-21T17:55:53.567505Z",
     "shell.execute_reply": "2021-06-21T17:55:53.567950Z"
    }
   },
   "outputs": [
    {
     "name": "stderr",
     "output_type": "stream",
     "text": [
      "Auto-assigning NUTS sampler...\n"
     ]
    },
    {
     "name": "stderr",
     "output_type": "stream",
     "text": [
      "Initializing NUTS using jitter+adapt_diag...\n"
     ]
    },
    {
     "name": "stderr",
     "output_type": "stream",
     "text": [
      "Multiprocess sampling (2 chains in 2 jobs)\n"
     ]
    },
    {
     "name": "stderr",
     "output_type": "stream",
     "text": [
      "NUTS: [x]\n"
     ]
    },
    {
     "data": {
      "text/html": [
       "\n",
       "    <div>\n",
       "        <style>\n",
       "            /* Turns off some styling */\n",
       "            progress {\n",
       "                /* gets rid of default border in Firefox and Opera. */\n",
       "                border: none;\n",
       "                /* Needs to be in here for Safari polyfill so background images work as expected. */\n",
       "                background-size: auto;\n",
       "            }\n",
       "            .progress-bar-interrupted, .progress-bar-interrupted::-webkit-progress-bar {\n",
       "                background: #F44336;\n",
       "            }\n",
       "        </style>\n",
       "      <progress value='2000' class='' max='2000' style='width:300px; height:20px; vertical-align: middle;'></progress>\n",
       "      100.00% [2000/2000 01:33<00:00 Sampling 2 chains, 0 divergences]\n",
       "    </div>\n",
       "    "
      ],
      "text/plain": [
       "<IPython.core.display.HTML object>"
      ]
     },
     "metadata": {},
     "output_type": "display_data"
    },
    {
     "name": "stderr",
     "output_type": "stream",
     "text": [
      "Sampling 2 chains for 500 tune and 500 draw iterations (1_000 + 1_000 draws total) took 94 seconds.\n"
     ]
    },
    {
     "name": "stderr",
     "output_type": "stream",
     "text": [
      "The chain reached the maximum tree depth. Increase max_treedepth, increase target_accept or reparameterize.\n"
     ]
    },
    {
     "name": "stderr",
     "output_type": "stream",
     "text": [
      "The chain reached the maximum tree depth. Increase max_treedepth, increase target_accept or reparameterize.\n"
     ]
    },
    {
     "name": "stderr",
     "output_type": "stream",
     "text": [
      "The estimated number of effective samples is smaller than 200 for some parameters.\n"
     ]
    }
   ],
   "source": [
    "with model:\n",
    "    trace = pm.sample(tune=500, draws=500, chains=2, cores=2)"
   ]
  },
  {
   "cell_type": "markdown",
   "id": "09d4f3cb",
   "metadata": {},
   "source": [
    "But, we can use `pymc3_ext.sample` as a drop in replacement to get much better performance:"
   ]
  },
  {
   "cell_type": "code",
   "execution_count": 6,
   "id": "f8c7d89c",
   "metadata": {
    "execution": {
     "iopub.execute_input": "2021-06-21T17:55:53.572849Z",
     "iopub.status.busy": "2021-06-21T17:55:53.571778Z",
     "iopub.status.idle": "2021-06-21T17:55:59.990635Z",
     "shell.execute_reply": "2021-06-21T17:55:59.989831Z"
    }
   },
   "outputs": [
    {
     "name": "stderr",
     "output_type": "stream",
     "text": [
      "Multiprocess sampling (2 chains in 2 jobs)\n"
     ]
    },
    {
     "name": "stderr",
     "output_type": "stream",
     "text": [
      "NUTS: [x]\n"
     ]
    },
    {
     "data": {
      "text/html": [
       "\n",
       "    <div>\n",
       "        <style>\n",
       "            /* Turns off some styling */\n",
       "            progress {\n",
       "                /* gets rid of default border in Firefox and Opera. */\n",
       "                border: none;\n",
       "                /* Needs to be in here for Safari polyfill so background images work as expected. */\n",
       "                background-size: auto;\n",
       "            }\n",
       "            .progress-bar-interrupted, .progress-bar-interrupted::-webkit-progress-bar {\n",
       "                background: #F44336;\n",
       "            }\n",
       "        </style>\n",
       "      <progress value='4000' class='' max='4000' style='width:300px; height:20px; vertical-align: middle;'></progress>\n",
       "      100.00% [4000/4000 00:06<00:00 Sampling 2 chains, 0 divergences]\n",
       "    </div>\n",
       "    "
      ],
      "text/plain": [
       "<IPython.core.display.HTML object>"
      ]
     },
     "metadata": {},
     "output_type": "display_data"
    },
    {
     "name": "stderr",
     "output_type": "stream",
     "text": [
      "Sampling 2 chains for 1_000 tune and 1_000 draw iterations (2_000 + 2_000 draws total) took 6 seconds.\n"
     ]
    }
   ],
   "source": [
    "import pymc3_ext as pmx\n",
    "\n",
    "with model:\n",
    "    tracex = pmx.sample(tune=1000, draws=1000, chains=2, cores=2)"
   ]
  },
  {
   "cell_type": "markdown",
   "id": "f9f852fe",
   "metadata": {},
   "source": [
    "As you can see, this is substantially faster (even though we generated twice as many samples).\n",
    "\n",
    "We can compare the sampling summaries to confirm that the default method did not produce reliable results in this case, while the `pymc3_ext` version did:"
   ]
  },
  {
   "cell_type": "code",
   "execution_count": 7,
   "id": "a264ede2",
   "metadata": {
    "execution": {
     "iopub.execute_input": "2021-06-21T17:56:00.001086Z",
     "iopub.status.busy": "2021-06-21T17:55:59.995058Z",
     "iopub.status.idle": "2021-06-21T17:56:00.076358Z",
     "shell.execute_reply": "2021-06-21T17:56:00.075796Z"
    }
   },
   "outputs": [
    {
     "data": {
      "text/html": [
       "<div>\n",
       "<style scoped>\n",
       "    .dataframe tbody tr th:only-of-type {\n",
       "        vertical-align: middle;\n",
       "    }\n",
       "\n",
       "    .dataframe tbody tr th {\n",
       "        vertical-align: top;\n",
       "    }\n",
       "\n",
       "    .dataframe thead th {\n",
       "        text-align: right;\n",
       "    }\n",
       "</style>\n",
       "<table border=\"1\" class=\"dataframe\">\n",
       "  <thead>\n",
       "    <tr style=\"text-align: right;\">\n",
       "      <th></th>\n",
       "      <th>mean</th>\n",
       "      <th>sd</th>\n",
       "      <th>hdi_3%</th>\n",
       "      <th>hdi_97%</th>\n",
       "      <th>mcse_mean</th>\n",
       "      <th>mcse_sd</th>\n",
       "      <th>ess_bulk</th>\n",
       "      <th>ess_tail</th>\n",
       "      <th>r_hat</th>\n",
       "    </tr>\n",
       "  </thead>\n",
       "  <tbody>\n",
       "    <tr>\n",
       "      <th>x[0]</th>\n",
       "      <td>-0.008</td>\n",
       "      <td>0.159</td>\n",
       "      <td>-0.313</td>\n",
       "      <td>0.250</td>\n",
       "      <td>0.021</td>\n",
       "      <td>0.015</td>\n",
       "      <td>60.0</td>\n",
       "      <td>92.0</td>\n",
       "      <td>1.03</td>\n",
       "    </tr>\n",
       "    <tr>\n",
       "      <th>x[1]</th>\n",
       "      <td>0.099</td>\n",
       "      <td>0.480</td>\n",
       "      <td>-0.835</td>\n",
       "      <td>0.914</td>\n",
       "      <td>0.040</td>\n",
       "      <td>0.028</td>\n",
       "      <td>147.0</td>\n",
       "      <td>189.0</td>\n",
       "      <td>1.03</td>\n",
       "    </tr>\n",
       "    <tr>\n",
       "      <th>x[2]</th>\n",
       "      <td>-0.069</td>\n",
       "      <td>0.621</td>\n",
       "      <td>-1.293</td>\n",
       "      <td>1.019</td>\n",
       "      <td>0.088</td>\n",
       "      <td>0.063</td>\n",
       "      <td>50.0</td>\n",
       "      <td>138.0</td>\n",
       "      <td>1.01</td>\n",
       "    </tr>\n",
       "    <tr>\n",
       "      <th>x[3]</th>\n",
       "      <td>-0.173</td>\n",
       "      <td>1.087</td>\n",
       "      <td>-2.228</td>\n",
       "      <td>1.864</td>\n",
       "      <td>0.143</td>\n",
       "      <td>0.102</td>\n",
       "      <td>58.0</td>\n",
       "      <td>139.0</td>\n",
       "      <td>1.01</td>\n",
       "    </tr>\n",
       "    <tr>\n",
       "      <th>x[4]</th>\n",
       "      <td>-0.105</td>\n",
       "      <td>1.940</td>\n",
       "      <td>-3.483</td>\n",
       "      <td>3.641</td>\n",
       "      <td>0.217</td>\n",
       "      <td>0.154</td>\n",
       "      <td>84.0</td>\n",
       "      <td>211.0</td>\n",
       "      <td>1.04</td>\n",
       "    </tr>\n",
       "  </tbody>\n",
       "</table>\n",
       "</div>"
      ],
      "text/plain": [
       "       mean     sd  hdi_3%  hdi_97%  mcse_mean  mcse_sd  ess_bulk  ess_tail  \\\n",
       "x[0] -0.008  0.159  -0.313    0.250      0.021    0.015      60.0      92.0   \n",
       "x[1]  0.099  0.480  -0.835    0.914      0.040    0.028     147.0     189.0   \n",
       "x[2] -0.069  0.621  -1.293    1.019      0.088    0.063      50.0     138.0   \n",
       "x[3] -0.173  1.087  -2.228    1.864      0.143    0.102      58.0     139.0   \n",
       "x[4] -0.105  1.940  -3.483    3.641      0.217    0.154      84.0     211.0   \n",
       "\n",
       "      r_hat  \n",
       "x[0]   1.03  \n",
       "x[1]   1.03  \n",
       "x[2]   1.01  \n",
       "x[3]   1.01  \n",
       "x[4]   1.04  "
      ]
     },
     "execution_count": 1,
     "metadata": {},
     "output_type": "execute_result"
    }
   ],
   "source": [
    "import arviz as az\n",
    "\n",
    "az.summary(trace).head()"
   ]
  },
  {
   "cell_type": "code",
   "execution_count": 8,
   "id": "babf7f8c",
   "metadata": {
    "execution": {
     "iopub.execute_input": "2021-06-21T17:56:00.086152Z",
     "iopub.status.busy": "2021-06-21T17:56:00.079961Z",
     "iopub.status.idle": "2021-06-21T17:56:00.154690Z",
     "shell.execute_reply": "2021-06-21T17:56:00.154197Z"
    }
   },
   "outputs": [
    {
     "data": {
      "text/html": [
       "<div>\n",
       "<style scoped>\n",
       "    .dataframe tbody tr th:only-of-type {\n",
       "        vertical-align: middle;\n",
       "    }\n",
       "\n",
       "    .dataframe tbody tr th {\n",
       "        vertical-align: top;\n",
       "    }\n",
       "\n",
       "    .dataframe thead th {\n",
       "        text-align: right;\n",
       "    }\n",
       "</style>\n",
       "<table border=\"1\" class=\"dataframe\">\n",
       "  <thead>\n",
       "    <tr style=\"text-align: right;\">\n",
       "      <th></th>\n",
       "      <th>mean</th>\n",
       "      <th>sd</th>\n",
       "      <th>hdi_3%</th>\n",
       "      <th>hdi_97%</th>\n",
       "      <th>mcse_mean</th>\n",
       "      <th>mcse_sd</th>\n",
       "      <th>ess_bulk</th>\n",
       "      <th>ess_tail</th>\n",
       "      <th>r_hat</th>\n",
       "    </tr>\n",
       "  </thead>\n",
       "  <tbody>\n",
       "    <tr>\n",
       "      <th>x[0]</th>\n",
       "      <td>0.003</td>\n",
       "      <td>0.167</td>\n",
       "      <td>-0.272</td>\n",
       "      <td>0.341</td>\n",
       "      <td>0.003</td>\n",
       "      <td>0.004</td>\n",
       "      <td>2570.0</td>\n",
       "      <td>1280.0</td>\n",
       "      <td>1.0</td>\n",
       "    </tr>\n",
       "    <tr>\n",
       "      <th>x[1]</th>\n",
       "      <td>-0.005</td>\n",
       "      <td>0.544</td>\n",
       "      <td>-1.037</td>\n",
       "      <td>1.009</td>\n",
       "      <td>0.011</td>\n",
       "      <td>0.012</td>\n",
       "      <td>2420.0</td>\n",
       "      <td>1539.0</td>\n",
       "      <td>1.0</td>\n",
       "    </tr>\n",
       "    <tr>\n",
       "      <th>x[2]</th>\n",
       "      <td>-0.007</td>\n",
       "      <td>0.666</td>\n",
       "      <td>-1.218</td>\n",
       "      <td>1.238</td>\n",
       "      <td>0.013</td>\n",
       "      <td>0.015</td>\n",
       "      <td>2438.0</td>\n",
       "      <td>1380.0</td>\n",
       "      <td>1.0</td>\n",
       "    </tr>\n",
       "    <tr>\n",
       "      <th>x[3]</th>\n",
       "      <td>-0.004</td>\n",
       "      <td>1.193</td>\n",
       "      <td>-2.217</td>\n",
       "      <td>2.201</td>\n",
       "      <td>0.024</td>\n",
       "      <td>0.029</td>\n",
       "      <td>2419.0</td>\n",
       "      <td>1372.0</td>\n",
       "      <td>1.0</td>\n",
       "    </tr>\n",
       "    <tr>\n",
       "      <th>x[4]</th>\n",
       "      <td>-0.013</td>\n",
       "      <td>2.061</td>\n",
       "      <td>-4.002</td>\n",
       "      <td>3.771</td>\n",
       "      <td>0.042</td>\n",
       "      <td>0.046</td>\n",
       "      <td>2455.0</td>\n",
       "      <td>1524.0</td>\n",
       "      <td>1.0</td>\n",
       "    </tr>\n",
       "  </tbody>\n",
       "</table>\n",
       "</div>"
      ],
      "text/plain": [
       "       mean     sd  hdi_3%  hdi_97%  mcse_mean  mcse_sd  ess_bulk  ess_tail  \\\n",
       "x[0]  0.003  0.167  -0.272    0.341      0.003    0.004    2570.0    1280.0   \n",
       "x[1] -0.005  0.544  -1.037    1.009      0.011    0.012    2420.0    1539.0   \n",
       "x[2] -0.007  0.666  -1.218    1.238      0.013    0.015    2438.0    1380.0   \n",
       "x[3] -0.004  1.193  -2.217    2.201      0.024    0.029    2419.0    1372.0   \n",
       "x[4] -0.013  2.061  -4.002    3.771      0.042    0.046    2455.0    1524.0   \n",
       "\n",
       "      r_hat  \n",
       "x[0]    1.0  \n",
       "x[1]    1.0  \n",
       "x[2]    1.0  \n",
       "x[3]    1.0  \n",
       "x[4]    1.0  "
      ]
     },
     "execution_count": 1,
     "metadata": {},
     "output_type": "execute_result"
    }
   ],
   "source": [
    "az.summary(tracex).head()"
   ]
  },
  {
   "cell_type": "markdown",
   "id": "a3e7bfd4",
   "metadata": {},
   "source": [
    "In this particular case, you could get similar performance using the `init=\"adapt_full\"` argument to the `sample` function in PyMC3, but the implementation in `pymc3-ext` is somewhat more flexible.\n",
    "Specifically, `pymc3_ext` implements a tuning procedure that it more similar to [the one implemented by the Stan project](https://mc-stan.org/docs/2_24/reference-manual/hmc-algorithm-parameters.html).\n",
    "The relevant parameters are:\n",
    "\n",
    "- `warmup_window`: The length of the initial \"fast\" window. This is called \"initial buffer\" in the Stan docs.\n",
    "- `adapt_window`: The length of the initial \"slow\" window. This is called \"window\" in the Stan docs.\n",
    "- `cooldown_window`: The length of the final \"fast\" window. This is called \"term buffer\" in the Stan docs.\n",
    "\n",
    "Unlike the Stan implementation, here we have support for updating the mass matrix estimate every `recompute_interval` steps based on the previous window and all the steps in the current window so far.\n",
    "This can improve warm up performance substantially so the default value is `1`, but this might be intractable for high dimensional models.\n",
    "To only recompute the estimate at the end of each window, set `recompute_interval=0`.\n",
    "\n",
    "If you run into numerical issues, you can try increasing `adapt_window` or use the `regularization_steps`and `regularization_variance` to regularize the mass matrix estimator.\n",
    "The `regularization_steps` parameter sets the effective number of steps that are used for regularization and `regularization_variance` is the effective variance for those steps."
   ]
  },
  {
   "cell_type": "markdown",
   "id": "28f76e63",
   "metadata": {},
   "source": [
    "## Parameter groups\n",
    "\n",
    "If you are fitting a model with a large number of parameters, it might not be computationally or numerically tractable to estimate the full dense mass matrix.\n",
    "But, sometimes you might know something about the covariance structure of the problem that you can exploit.\n",
    "Perhaps some parameters are correlated with each other, but not with others.\n",
    "In this case, you can use the `parameter_groups` argument to exploit this structure.\n",
    "\n",
    "Here is an example where `x`, `y`, and `z` are all independent with different covariance structure.\n",
    "We can take advantage of this structure using `pmx.ParameterGroup` specifications in the `parameter_groups` argument.\n",
    "Note that by default each group will internally estimate a dense mass matrix, but here we specifically only estimate a diagonal mass matrix for `z`."
   ]
  },
  {
   "cell_type": "code",
   "execution_count": 9,
   "id": "31d662a3",
   "metadata": {
    "execution": {
     "iopub.execute_input": "2021-06-21T17:56:00.163159Z",
     "iopub.status.busy": "2021-06-21T17:56:00.162616Z",
     "iopub.status.idle": "2021-06-21T17:56:11.680247Z",
     "shell.execute_reply": "2021-06-21T17:56:11.679410Z"
    }
   },
   "outputs": [
    {
     "name": "stderr",
     "output_type": "stream",
     "text": [
      "Multiprocess sampling (2 chains in 2 jobs)\n"
     ]
    },
    {
     "name": "stderr",
     "output_type": "stream",
     "text": [
      "NUTS: [z, y, x]\n"
     ]
    },
    {
     "data": {
      "text/html": [
       "\n",
       "    <div>\n",
       "        <style>\n",
       "            /* Turns off some styling */\n",
       "            progress {\n",
       "                /* gets rid of default border in Firefox and Opera. */\n",
       "                border: none;\n",
       "                /* Needs to be in here for Safari polyfill so background images work as expected. */\n",
       "                background-size: auto;\n",
       "            }\n",
       "            .progress-bar-interrupted, .progress-bar-interrupted::-webkit-progress-bar {\n",
       "                background: #F44336;\n",
       "            }\n",
       "        </style>\n",
       "      <progress value='4000' class='' max='4000' style='width:300px; height:20px; vertical-align: middle;'></progress>\n",
       "      100.00% [4000/4000 00:10<00:00 Sampling 2 chains, 0 divergences]\n",
       "    </div>\n",
       "    "
      ],
      "text/plain": [
       "<IPython.core.display.HTML object>"
      ]
     },
     "metadata": {},
     "output_type": "display_data"
    },
    {
     "name": "stderr",
     "output_type": "stream",
     "text": [
      "Sampling 2 chains for 1_000 tune and 1_000 draw iterations (2_000 + 2_000 draws total) took 10 seconds.\n"
     ]
    }
   ],
   "source": [
    "with pm.Model():\n",
    "    x = pm.MvNormal(\"x\", mu=np.zeros(ndim), chol=L, shape=ndim)\n",
    "    y = pm.MvNormal(\"y\", mu=np.zeros(ndim), chol=L, shape=ndim)\n",
    "    z = pm.Normal(\"z\", shape=ndim)  # Uncorrelated\n",
    "\n",
    "    tracex2 = pmx.sample(\n",
    "        tune=1000,\n",
    "        draws=1000,\n",
    "        chains=2,\n",
    "        cores=2,\n",
    "        parameter_groups=[\n",
    "            [x],\n",
    "            [y],\n",
    "            pmx.ParameterGroup([z], \"diag\"),\n",
    "        ],\n",
    "    )"
   ]
  },
  {
   "cell_type": "code",
   "execution_count": null,
   "id": "c35509fc",
   "metadata": {},
   "outputs": [],
   "source": []
  }
 ],
 "metadata": {
  "kernelspec": {
   "display_name": "Python 3",
   "language": "python",
   "name": "python3"
  },
  "language_info": {
   "codemirror_mode": {
    "name": "ipython",
    "version": 3
   },
   "file_extension": ".py",
   "mimetype": "text/x-python",
   "name": "python",
   "nbconvert_exporter": "python",
   "pygments_lexer": "ipython3",
   "version": "3.8.10"
  }
 },
 "nbformat": 4,
 "nbformat_minor": 5
}
